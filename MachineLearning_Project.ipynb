{
  "nbformat": 4,
  "nbformat_minor": 0,
  "metadata": {
    "accelerator": "GPU",
    "colab": {
      "name": "MachineLearning_Project.ipynb",
      "provenance": [],
      "collapsed_sections": []
    },
    "kernelspec": {
      "display_name": "Python 3",
      "name": "python3"
    },
    "language_info": {
      "name": "python"
    }
  },
  "cells": [
    {
      "cell_type": "code",
      "metadata": {
        "id": "hZzZsHPs8kal",
        "colab": {
          "base_uri": "https://localhost:8080/"
        },
        "outputId": "9acf5e80-a99b-4b10-e4b5-2c958358515f"
      },
      "source": [
        "# Load the Drive helper and mount\n",
        "from google.colab import drive\n",
        "drive.mount('/content/drive')"
      ],
      "execution_count": null,
      "outputs": [
        {
          "output_type": "stream",
          "name": "stdout",
          "text": [
            "Drive already mounted at /content/drive; to attempt to forcibly remount, call drive.mount(\"/content/drive\", force_remount=True).\n"
          ]
        }
      ]
    },
    {
      "cell_type": "code",
      "metadata": {
        "id": "RigPKjKRgOa1",
        "colab": {
          "base_uri": "https://localhost:8080/"
        },
        "outputId": "d01e5807-124e-432a-fd7e-2e756108cf4d"
      },
      "source": [
        "# Importing required libraries\n",
        "\n",
        "from keras.layers import Embedding, Dense, LSTM \n",
        "from keras.models import Sequential\n",
        "from keras.preprocessing import sequence\n",
        "import numpy as np\n",
        "from nltk.tokenize import RegexpTokenizer\n",
        "from nltk.stem import WordNetLemmatizer\n",
        "from nltk import FreqDist\n",
        "\n",
        "print(\"Libraries imported\")"
      ],
      "execution_count": null,
      "outputs": [
        {
          "output_type": "stream",
          "name": "stdout",
          "text": [
            "Libraries imported\n"
          ]
        }
      ]
    },
    {
      "cell_type": "code",
      "metadata": {
        "colab": {
          "base_uri": "https://localhost:8080/",
          "height": 51
        },
        "id": "DkJoRc3z96G5",
        "outputId": "6a82b451-c79b-482a-e675-fa5f877f19bd"
      },
      "source": [
        "'''\n",
        "# Merging two data files\n",
        "data = data2 = \"\" \n",
        "  \n",
        "# Reading data from first file \n",
        "with open('/content/drive/MyDrive/train.ft.txt') as fp: \n",
        "    data = fp.read() \n",
        "with open('/content/drive/MyDrive/test.ft.txt') as fp: \n",
        "    data2 = fp.read() \n",
        "# Merging two files into one another file \n",
        "data += \"\\n\"\n",
        "data += data2 \n",
        "with open ('dataset.txt', 'w') as fp:\n",
        "  fp.write(data)\n",
        "\n",
        "print(\"Dataset is ready to use!!\")\n",
        "'''"
      ],
      "execution_count": null,
      "outputs": [
        {
          "output_type": "execute_result",
          "data": {
            "application/vnd.google.colaboratory.intrinsic+json": {
              "type": "string"
            },
            "text/plain": [
              "'\\n# Merging two data files\\ndata = data2 = \"\" \\n  \\n# Reading data from first file \\nwith open(\\'/content/drive/MyDrive/train.ft.txt\\') as fp: \\n    data = fp.read() \\nwith open(\\'/content/drive/MyDrive/test.ft.txt\\') as fp: \\n    data2 = fp.read() \\n# Merging two files into one another file \\ndata += \"\\n\"\\ndata += data2 \\nwith open (\\'dataset.txt\\', \\'w\\') as fp:\\n  fp.write(data)\\n\\nprint(\"Dataset is ready to use!!\")\\n'"
            ]
          },
          "metadata": {},
          "execution_count": 22
        }
      ]
    },
    {
      "cell_type": "code",
      "metadata": {
        "id": "5yulz2nygWh6",
        "colab": {
          "base_uri": "https://localhost:8080/"
        },
        "outputId": "e16a3f75-242f-4844-eda8-5b9e77a631c2"
      },
      "source": [
        "# Loading the dataset - Amazon reviews\n",
        "\n",
        "#input_file = open(\"train.ft.txt\", \"rb\")\n",
        "input_file = open(\"/content/drive/MyDrive/train.ft.txt\", \"rb\")\n",
        "dataset = input_file.read()\n",
        "input_file.close()\n",
        "print(\"Dataset - Amazon reviews loaded\")\n",
        "\n",
        "# Length of dataset\n",
        "print(\"Whole content of dataset: \", len(dataset))\n",
        "print(\" \")"
      ],
      "execution_count": null,
      "outputs": [
        {
          "output_type": "stream",
          "name": "stdout",
          "text": [
            "Dataset - Amazon reviews loaded\n",
            "Whole content of dataset:  1597164432\n",
            " \n"
          ]
        }
      ]
    },
    {
      "cell_type": "code",
      "metadata": {
        "colab": {
          "base_uri": "https://localhost:8080/"
        },
        "id": "7-l9DlGC1DUr",
        "outputId": "97bb5675-cb27-407b-df9c-a2547d970fa1"
      },
      "source": [
        "# _label__1, __label__2 at the beginning of each review\n",
        "# Splitting each individual review\n",
        "\n",
        "dataset = dataset.decode(\"utf-8\")\n",
        "dataset = dataset.splitlines()\n",
        "print(\"After splitting the length of dataset: \", len(dataset))\n",
        "print(\" \")\n",
        "print(dataset[0])"
      ],
      "execution_count": null,
      "outputs": [
        {
          "output_type": "stream",
          "name": "stdout",
          "text": [
            "After splitting the length of dataset:  3600000\n",
            " \n",
            "__label__2 Stuning even for the non-gamer: This sound track was beautiful! It paints the senery in your mind so well I would recomend it even to people who hate vid. game music! I have played the game Chrono Cross but out of all of the games I have ever played it has the best music! It backs away from crude keyboarding and takes a fresher step with grate guitars and soulful orchestras. It would impress anyone who cares to listen! ^_^\n"
          ]
        }
      ]
    },
    {
      "cell_type": "code",
      "metadata": {
        "id": "wBtWtL153dJB"
      },
      "source": [
        "# Total 400,000 reviews\n",
        "\n",
        "# For quick iterations making this dataset as 100,000\n",
        "dataset = dataset[:100000]"
      ],
      "execution_count": null,
      "outputs": []
    },
    {
      "cell_type": "code",
      "metadata": {
        "colab": {
          "base_uri": "https://localhost:8080/",
          "height": 51
        },
        "id": "qyroXxgb-6V0",
        "outputId": "7a294eff-183e-4759-b5cd-91b8be33edb4"
      },
      "source": [
        "# Create two lists: labels and reviews\n",
        "\n",
        "labels = []\n",
        "reviews = []\n",
        "\n",
        "for i in dataset:\n",
        "  separated = i.split(\" \",1)\n",
        "  labels.append(separated[0])\n",
        "  reviews.append(separated[1])\n",
        "\n",
        "'''\n",
        "# Checking the reviews:\n",
        "for i in range(len(labels)):\n",
        "  if labels[i] == '__label__1':\n",
        "    labels[i] = 'Bad Review'\n",
        "  elif labels[i] == '__label__2':\n",
        "    labels[i] = 'Good Review'\n",
        "  else:\n",
        "    print(\"uh oh\")\n",
        "\n",
        "for i in range(10):\n",
        "  print(label[i])\n",
        "\n",
        "'''"
      ],
      "execution_count": null,
      "outputs": [
        {
          "output_type": "execute_result",
          "data": {
            "application/vnd.google.colaboratory.intrinsic+json": {
              "type": "string"
            },
            "text/plain": [
              "'\\n# Checking the reviews:\\nfor i in range(len(labels)):\\n  if labels[i] == \\'__label__1\\':\\n    labels[i] = \\'Bad Review\\'\\n  elif labels[i] == \\'__label__2\\':\\n    labels[i] = \\'Good Review\\'\\n  else:\\n    print(\"uh oh\")\\n\\nfor i in range(10):\\n  print(label[i])\\n\\n'"
            ]
          },
          "metadata": {},
          "execution_count": 26
        }
      ]
    },
    {
      "cell_type": "code",
      "metadata": {
        "colab": {
          "base_uri": "https://localhost:8080/"
        },
        "id": "u-pHILIBD3X2",
        "outputId": "ac84a053-4a4b-49d8-9b78-1fb92b0514d6"
      },
      "source": [
        "import nltk\n",
        "nltk.download('punkt')"
      ],
      "execution_count": null,
      "outputs": [
        {
          "output_type": "stream",
          "name": "stdout",
          "text": [
            "[nltk_data] Downloading package punkt to /root/nltk_data...\n",
            "[nltk_data]   Package punkt is already up-to-date!\n"
          ]
        },
        {
          "output_type": "execute_result",
          "data": {
            "text/plain": [
              "True"
            ]
          },
          "metadata": {},
          "execution_count": 27
        }
      ]
    },
    {
      "cell_type": "code",
      "metadata": {
        "colab": {
          "base_uri": "https://localhost:8080/",
          "height": 35
        },
        "id": "lvEVeEnzDq4V",
        "outputId": "82a50668-a091-4f01-cdcd-b6c4f0ba3817"
      },
      "source": [
        "# Bag of words Models\n",
        "\n",
        "# Preparing the features\n",
        "\n",
        "'''\n",
        "import nltk\n",
        "from nltk.tokenize import word_tokenize, RegexpTokenizer\n",
        "\n",
        "print(word_tokenize(reviews[0]))\n",
        "reTokenizer = RegexpTokenizer(r'\\w+')\n",
        "print(reTokenizer.tokenize(reviews[0]))    \n",
        "'''"
      ],
      "execution_count": null,
      "outputs": [
        {
          "output_type": "execute_result",
          "data": {
            "application/vnd.google.colaboratory.intrinsic+json": {
              "type": "string"
            },
            "text/plain": [
              "\"\\nimport nltk\\nfrom nltk.tokenize import word_tokenize, RegexpTokenizer\\n\\nprint(word_tokenize(reviews[0]))\\nreTokenizer = RegexpTokenizer(r'\\\\w+')\\nprint(reTokenizer.tokenize(reviews[0]))    \\n\""
            ]
          },
          "metadata": {},
          "execution_count": 28
        }
      ]
    },
    {
      "cell_type": "code",
      "metadata": {
        "id": "V3Fh24Pq6l_I"
      },
      "source": [
        "# bag-of-words vocabulary\n",
        "\n",
        "vocab_size = 3000\n",
        "max_length = 500\n",
        "\n",
        "for i in range(len(labels)):\n",
        "  labels[i] = int(labels[i] == '__label__2')\n",
        "\n",
        "reTokenizer = RegexpTokenizer(r'\\w+')\n",
        "all_words = []\n",
        "\n",
        "for i in range(len(reviews)):\n",
        "  tokens = reTokenizer.tokenize(reviews[i])\n",
        "  reviews[i] = []\n",
        "  for word in tokens:\n",
        "    word = word.lower()\n",
        "    all_words.append(word)\n",
        "    reviews[i].append(word)\n",
        "    \n",
        "# Extracting the most common words from a list    \n",
        "all_words = FreqDist(all_words)\n",
        "all_words = all_words.most_common(vocab_size)\n",
        "for i in range(len(all_words)):\n",
        "  all_words[i] = all_words[i][0]"
      ],
      "execution_count": null,
      "outputs": []
    },
    {
      "cell_type": "code",
      "metadata": {
        "id": "VZVTfwbt_FaL"
      },
      "source": [
        "# Converting Word to int\n",
        "# i+1 because we want to start at 1\n",
        "\n",
        "word2int = {all_words[i] : i+1  for i in range(vocab_size)}   \n",
        "int2word = {x : y  for  y, x in word2int.items()}\n",
        "dict_as_list = list(word2int)\n",
        "\n",
        "\n",
        "def review2intlist(rev_text):\n",
        "    int_list = []\n",
        "    for word in rev_text:\n",
        "        if word in word2int.keys():\n",
        "            int_list.append(word2int[word])\n",
        "    return int_list\n",
        "\n",
        "\n",
        "lstm_input = []\n",
        "for rev in reviews:\n",
        "  lstm_input.append(np.asarray(review2intlist(rev), dtype=int))\n",
        "lstm_input = sequence.pad_sequences(lstm_input, maxlen=max_length)\n",
        "\n",
        "train_proportion = 0.9\n",
        "train_size = int(train_proportion * len(labels))\n",
        "\n",
        "x_train, y_train = lstm_input[:train_size], labels[:train_size]\n",
        "x_test, y_test = lstm_input[train_size:], labels[train_size:]\n"
      ],
      "execution_count": null,
      "outputs": []
    },
    {
      "cell_type": "code",
      "metadata": {
        "id": "HfpZ3YHyI-2e",
        "colab": {
          "base_uri": "https://localhost:8080/"
        },
        "outputId": "a166f45b-091c-4537-b8c3-fb95814f24db"
      },
      "source": [
        "print('x_train shape: ',x_train.shape)\n",
        "print('y_train shape: ',len(y_train))\n",
        "print('x_test shape: ',x_test.shape)\n",
        "print('y_test shape: ',len(y_test))\n",
        "\n",
        "import numpy as np\n",
        "x_train = np.array(x_train)\n",
        "y_train = np.array(y_train)\n",
        "\n",
        "x_test = np.array(x_test)\n",
        "y_test = np.array(y_test)"
      ],
      "execution_count": null,
      "outputs": [
        {
          "output_type": "stream",
          "name": "stdout",
          "text": [
            "x_train shape:  (90000, 500)\n",
            "y_train shape:  90000\n",
            "x_test shape:  (10000, 500)\n",
            "y_test shape:  10000\n"
          ]
        }
      ]
    },
    {
      "cell_type": "code",
      "metadata": {
        "id": "c0mWhsFnBco9",
        "colab": {
          "base_uri": "https://localhost:8080/",
          "height": 726
        },
        "outputId": "4c17352d-fe13-4989-8e14-6c98bf94d48f"
      },
      "source": [
        "from keras.layers import Bidirectional, CuDNNLSTM\n",
        "\n",
        "vocab_size=9000\n",
        "embedding_size=100\n",
        "max_length=500\n",
        "\n",
        "model = Sequential()\n",
        "model.add(Embedding(input_dim=vocab_size + 1, output_dim=embedding_size, input_length=max_length))\n",
        "model.add(CuDNNLSTM(200, return_sequences=True))\n",
        "model.add(CuDNNLSTM(150))\n",
        "model.add(Dense(1, activation='sigmoid'))\n",
        "model.compile(loss='binary_crossentropy', optimizer='adam', metrics=['accuracy', 'mean_squared_error','mean_absolute_error'])  \n",
        "model.summary()\n",
        "\n",
        "# Model Visualization\n",
        "from keras.utils.vis_utils import plot_model\n",
        "plot_model(model, to_file='model.png')\n"
      ],
      "execution_count": null,
      "outputs": [
        {
          "output_type": "stream",
          "name": "stdout",
          "text": [
            "Model: \"sequential_1\"\n",
            "_________________________________________________________________\n",
            "Layer (type)                 Output Shape              Param #   \n",
            "=================================================================\n",
            "embedding_1 (Embedding)      (None, 500, 100)          900100    \n",
            "_________________________________________________________________\n",
            "cu_dnnlstm_2 (CuDNNLSTM)     (None, 500, 200)          241600    \n",
            "_________________________________________________________________\n",
            "cu_dnnlstm_3 (CuDNNLSTM)     (None, 150)               211200    \n",
            "_________________________________________________________________\n",
            "dense_1 (Dense)              (None, 1)                 151       \n",
            "=================================================================\n",
            "Total params: 1,353,051\n",
            "Trainable params: 1,353,051\n",
            "Non-trainable params: 0\n",
            "_________________________________________________________________\n"
          ]
        },
        {
          "output_type": "execute_result",
          "data": {
            "image/png": "[encoded data removed]",
            "text/plain": [
              "<IPython.core.display.Image object>"
            ]
          },
          "metadata": {},
          "execution_count": 32
        }
      ]
    },
    {
      "cell_type": "code",
      "metadata": {
        "colab": {
          "base_uri": "https://localhost:8080/"
        },
        "id": "epaW8erSBhSz",
        "outputId": "6cf2f609-d10a-43bb-c7ca-34ced00828fe"
      },
      "source": [
        "hist = model.fit(x_train, y_train, validation_data=(x_test, y_test), batch_size=64, epochs=10, verbose=2)\n"
      ],
      "execution_count": null,
      "outputs": [
        {
          "output_type": "stream",
          "name": "stdout",
          "text": [
            "Epoch 1/10\n",
            "1407/1407 - 321s - loss: 0.3303 - accuracy: 0.8573 - mean_squared_error: 0.1017 - mean_absolute_error: 0.2027 - val_loss: 0.2579 - val_accuracy: 0.8947 - val_mean_squared_error: 0.0772 - val_mean_absolute_error: 0.1664\n",
            "Epoch 2/10\n",
            "1407/1407 - 318s - loss: 0.2286 - accuracy: 0.9095 - mean_squared_error: 0.0672 - mean_absolute_error: 0.1342 - val_loss: 0.2567 - val_accuracy: 0.8993 - val_mean_squared_error: 0.0760 - val_mean_absolute_error: 0.1521\n",
            "Epoch 3/10\n",
            "1407/1407 - 319s - loss: 0.1946 - accuracy: 0.9240 - mean_squared_error: 0.0565 - mean_absolute_error: 0.1135 - val_loss: 0.2175 - val_accuracy: 0.9101 - val_mean_squared_error: 0.0645 - val_mean_absolute_error: 0.1312\n",
            "Epoch 4/10\n",
            "1407/1407 - 319s - loss: 0.1739 - accuracy: 0.9323 - mean_squared_error: 0.0502 - mean_absolute_error: 0.1005 - val_loss: 0.2279 - val_accuracy: 0.9092 - val_mean_squared_error: 0.0672 - val_mean_absolute_error: 0.1311\n",
            "Epoch 5/10\n",
            "1407/1407 - 319s - loss: 0.1560 - accuracy: 0.9418 - mean_squared_error: 0.0443 - mean_absolute_error: 0.0892 - val_loss: 0.2247 - val_accuracy: 0.9093 - val_mean_squared_error: 0.0671 - val_mean_absolute_error: 0.1263\n",
            "Epoch 6/10\n",
            "1407/1407 - 319s - loss: 0.1394 - accuracy: 0.9484 - mean_squared_error: 0.0392 - mean_absolute_error: 0.0788 - val_loss: 0.2216 - val_accuracy: 0.9104 - val_mean_squared_error: 0.0656 - val_mean_absolute_error: 0.1167\n",
            "Epoch 7/10\n",
            "1407/1407 - 319s - loss: 0.1231 - accuracy: 0.9551 - mean_squared_error: 0.0342 - mean_absolute_error: 0.0689 - val_loss: 0.2684 - val_accuracy: 0.9000 - val_mean_squared_error: 0.0765 - val_mean_absolute_error: 0.1192\n",
            "Epoch 8/10\n",
            "1407/1407 - 319s - loss: 0.1072 - accuracy: 0.9619 - mean_squared_error: 0.0293 - mean_absolute_error: 0.0591 - val_loss: 0.2716 - val_accuracy: 0.9088 - val_mean_squared_error: 0.0717 - val_mean_absolute_error: 0.1053\n",
            "Epoch 9/10\n",
            "1407/1407 - 319s - loss: 0.0911 - accuracy: 0.9689 - mean_squared_error: 0.0244 - mean_absolute_error: 0.0493 - val_loss: 0.2943 - val_accuracy: 0.9090 - val_mean_squared_error: 0.0748 - val_mean_absolute_error: 0.1017\n",
            "Epoch 10/10\n",
            "1407/1407 - 318s - loss: 0.0763 - accuracy: 0.9745 - mean_squared_error: 0.0200 - mean_absolute_error: 0.0405 - val_loss: 0.3020 - val_accuracy: 0.9059 - val_mean_squared_error: 0.0764 - val_mean_absolute_error: 0.1027\n"
          ]
        }
      ]
    },
    {
      "cell_type": "code",
      "metadata": {
        "colab": {
          "base_uri": "https://localhost:8080/"
        },
        "id": "Fi01FVaNdl7z",
        "outputId": "871855b1-cb37-44d0-f3c5-f79a639713fd"
      },
      "source": [
        "import matplotlib.pyplot as plt\n",
        "plt.title(\"Training Plot: Loss, Accuracy and Errors\")\n",
        "plt.plot(hist.history['loss'], color='r', label=\"Loss\")\n",
        "plt.plot(hist.history['accuracy'], color='g', label=\"Accuracy\")\n",
        "plt.plot(hist.history['mean_squared_error'], color='b', label=\"MSE\")\n",
        "plt.plot(hist.history['mean_absolute_error'], color='y', label=\"MAE\")\n",
        "plt.xlabel(\"Epoch #\")\n",
        "plt.ylabel(\"Loss/Accuracy\")\n",
        "plt.legend(loc='best', shadow=True)"
      ],
      "execution_count": null,
      "outputs": [
        {
          "output_type": "execute_result",
          "data": {
            "text/plain": [
              "<matplotlib.legend.Legend at 0x7f31098ec850>"
            ]
          },
          "metadata": {},
          "execution_count": 34
        },
        {
          "output_type": "display_data",
          "data": {
            "image/png": "[encoded data removed]",
            "text/plain": [
              "<Figure size 432x288 with 1 Axes>"
            ]
          },
          "metadata": {
            "needs_background": "light"
          }
        }
      ]
    },
    {
      "cell_type": "code",
      "metadata": {
        "colab": {
          "base_uri": "https://localhost:8080/",
          "height": 311
        },
        "id": "eDMPMtzMhuNa",
        "outputId": "418610ee-d3e6-4876-fcd1-ce464650f0c9"
      },
      "source": [
        "plt.title(\"Validation Plot: Loss, Accuracy and Errors\")\n",
        "plt.plot(hist.history['val_loss'], color='r', label=\"Loss\")\n",
        "plt.plot(hist.history['val_accuracy'], color='g', label=\"Accuracy\")\n",
        "plt.plot(hist.history['val_mean_squared_error'], color='b', label=\"MSE\")\n",
        "plt.plot(hist.history['val_mean_absolute_error'], color='y', label=\"MAE\")\n",
        "plt.xlabel(\"Epoch #\")\n",
        "plt.ylabel(\"Loss/Accuracy\")\n",
        "plt.legend(loc='best', shadow=True)"
      ],
      "execution_count": null,
      "outputs": [
        {
          "output_type": "execute_result",
          "data": {
            "text/plain": [
              "<matplotlib.legend.Legend at 0x7f312789df10>"
            ]
          },
          "metadata": {},
          "execution_count": 35
        },
        {
          "output_type": "display_data",
          "data": {
            "image/png": "[encoded data removed]",
            "text/plain": [
              "<Figure size 432x288 with 1 Axes>"
            ]
          },
          "metadata": {
            "needs_background": "light"
          }
        }
      ]
    },
    {
      "cell_type": "code",
      "metadata": {
        "id": "1r0Zsk0OE0cZ",
        "colab": {
          "base_uri": "https://localhost:8080/"
        },
        "outputId": "4f1eed7b-02ac-4358-9ba4-1f43b44fd749"
      },
      "source": [
        "loss, accuracy, mse, mae = model.evaluate(x_test, y_test)     # Better: split the data into train/test/validate sets\n",
        "print(\" Model Test Accuracy, loss and errors\")\n",
        "print('Model Accuracy: ', accuracy)\n",
        "print('Model loss: ', loss)\n",
        "print('Model MSE: ', mse)\n",
        "print('Model MAE: ', mae)"
      ],
      "execution_count": null,
      "outputs": [
        {
          "output_type": "stream",
          "name": "stdout",
          "text": [
            "313/313 [==============================] - 20s 64ms/step - loss: 0.3020 - accuracy: 0.9059 - mean_squared_error: 0.0764 - mean_absolute_error: 0.1027\n",
            " Model Test Accuracy, loss and errors\n",
            "Model Accuracy:  0.9059000015258789\n",
            "Model loss:  0.30199283361434937\n",
            "Model MSE:  0.07636214792728424\n",
            "Model MAE:  0.10268623381853104\n"
          ]
        }
      ]
    },
    {
      "cell_type": "code",
      "metadata": {
        "id": "JmO5OxTkH1tJ"
      },
      "source": [
        "# Model prediction\n",
        "y_pred = model.predict(x_test)\n",
        "pred = y_pred.round()"
      ],
      "execution_count": null,
      "outputs": []
    },
    {
      "cell_type": "code",
      "metadata": {
        "id": "gplhPYp2EMRj",
        "colab": {
          "base_uri": "https://localhost:8080/"
        },
        "outputId": "c88bb5df-6c8e-4b65-a509-de597f649325"
      },
      "source": [
        "from sklearn.metrics import confusion_matrix, classification_report\n",
        "from sklearn.metrics import precision_score, recall_score, f1_score, accuracy_score\n",
        "from prettytable import PrettyTable\n",
        "\n",
        "print('Groud Truth values: ')\n",
        "print(y_test[1:100])\n",
        "print('-' * 40)\n",
        "print('Predicted values: ')\n",
        "print(pred[1:100])\n",
        "print('-' * 40)\n",
        "print(\"Classification Report: \")\n",
        "print(classification_report(y_test, y_pred.round()))\n",
        "print('-' * 40)\n",
        "print(\"Confusion Matrix: \")\n",
        "cfm = confusion_matrix(y_test, pred)\n",
        "print(cfm)\n",
        "\n",
        "accuracy = accuracy_score(y_test, pred)\n",
        "precision = precision_score(y_test, pred)\n",
        "recall = recall_score(y_test, pred)\n",
        "f1= f1_score(y_test, pred)\n",
        "# specificity = TN/TN + FP\n",
        "specificity = cfm[1,1]/(cfm[1,0]+cfm[1,1])\n",
        "\n",
        "cuDNNLSTM_Table = PrettyTable(['Performance Metrics', '%'])\n",
        "  \n",
        "# Add rows\n",
        "cuDNNLSTM_Table.add_row(['Accuracy ',accuracy])\n",
        "cuDNNLSTM_Table.add_row(['Precision',precision])\n",
        "cuDNNLSTM_Table.add_row(['F1-score ',f1])\n",
        "cuDNNLSTM_Table.add_row(['Recall/Sensitivity   ',recall])\n",
        "cuDNNLSTM_Table.add_row(['Specificity ',specificity])\n",
        "\n",
        "print(cuDNNLSTM_Table)\n",
        "\n",
        "\n"
      ],
      "execution_count": null,
      "outputs": [
        {
          "output_type": "stream",
          "name": "stdout",
          "text": [
            "Groud Truth values: \n",
            "[0 0 0 0 0 0 0 0 0 0 0 1 1 0 0 0 0 0 0 0 1 0 1 1 1 1 1 1 1 1 1 1 1 1 1 1 1\n",
            " 1 1 0 0 0 0 0 0 0 0 0 0 1 1 1 1 0 0 0 1 1 1 0 0 0 0 0 0 0 0 0 0 0 1 1 1 1\n",
            " 1 1 0 1 1 1 0 1 1 1 1 0 0 1 1 1 0 0 0 0 0 0 1 1 1]\n",
            "----------------------------------------\n",
            "Predicted values: \n",
            "[[1.]\n",
            " [0.]\n",
            " [0.]\n",
            " [0.]\n",
            " [0.]\n",
            " [0.]\n",
            " [0.]\n",
            " [1.]\n",
            " [1.]\n",
            " [0.]\n",
            " [0.]\n",
            " [0.]\n",
            " [0.]\n",
            " [0.]\n",
            " [0.]\n",
            " [0.]\n",
            " [0.]\n",
            " [1.]\n",
            " [0.]\n",
            " [0.]\n",
            " [1.]\n",
            " [1.]\n",
            " [1.]\n",
            " [0.]\n",
            " [1.]\n",
            " [1.]\n",
            " [1.]\n",
            " [1.]\n",
            " [1.]\n",
            " [1.]\n",
            " [1.]\n",
            " [1.]\n",
            " [1.]\n",
            " [1.]\n",
            " [0.]\n",
            " [1.]\n",
            " [1.]\n",
            " [0.]\n",
            " [1.]\n",
            " [0.]\n",
            " [1.]\n",
            " [0.]\n",
            " [0.]\n",
            " [0.]\n",
            " [0.]\n",
            " [0.]\n",
            " [0.]\n",
            " [1.]\n",
            " [0.]\n",
            " [1.]\n",
            " [1.]\n",
            " [1.]\n",
            " [1.]\n",
            " [0.]\n",
            " [0.]\n",
            " [0.]\n",
            " [1.]\n",
            " [1.]\n",
            " [1.]\n",
            " [1.]\n",
            " [0.]\n",
            " [1.]\n",
            " [1.]\n",
            " [1.]\n",
            " [0.]\n",
            " [0.]\n",
            " [0.]\n",
            " [0.]\n",
            " [0.]\n",
            " [0.]\n",
            " [1.]\n",
            " [1.]\n",
            " [1.]\n",
            " [1.]\n",
            " [1.]\n",
            " [1.]\n",
            " [0.]\n",
            " [1.]\n",
            " [0.]\n",
            " [1.]\n",
            " [1.]\n",
            " [1.]\n",
            " [0.]\n",
            " [1.]\n",
            " [1.]\n",
            " [1.]\n",
            " [0.]\n",
            " [1.]\n",
            " [1.]\n",
            " [1.]\n",
            " [1.]\n",
            " [0.]\n",
            " [0.]\n",
            " [0.]\n",
            " [0.]\n",
            " [0.]\n",
            " [1.]\n",
            " [1.]\n",
            " [1.]]\n",
            "----------------------------------------\n",
            "Classification Report: \n",
            "              precision    recall  f1-score   support\n",
            "\n",
            "           0       0.92      0.89      0.90      5008\n",
            "           1       0.89      0.92      0.91      4992\n",
            "\n",
            "    accuracy                           0.91     10000\n",
            "   macro avg       0.91      0.91      0.91     10000\n",
            "weighted avg       0.91      0.91      0.91     10000\n",
            "\n",
            "----------------------------------------\n",
            "Confusion Matrix: \n",
            "[[4467  541]\n",
            " [ 400 4592]]\n",
            "+-----------------------+--------------------+\n",
            "|  Performance Metrics  |         %          |\n",
            "+-----------------------+--------------------+\n",
            "|       Accuracy        |       0.9059       |\n",
            "|       Precision       | 0.8946035456847847 |\n",
            "|       F1-score        | 0.9070617283950616 |\n",
            "| Recall/Sensitivity    | 0.9198717948717948 |\n",
            "|      Specificity      | 0.9198717948717948 |\n",
            "+-----------------------+--------------------+\n"
          ]
        }
      ]
    }
  ]
}